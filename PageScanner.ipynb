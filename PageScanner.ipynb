{
 "cells": [
  {
   "cell_type": "code",
   "execution_count": 1,
   "id": "0e1d61fd-7cc8-46d8-83dc-744764deb956",
   "metadata": {},
   "outputs": [],
   "source": [
    "import cv2\n",
    "import numpy as np"
   ]
  },
  {
   "cell_type": "code",
   "execution_count": 2,
   "id": "64b7200f-bd87-41d0-b465-4514b39c1039",
   "metadata": {},
   "outputs": [],
   "source": [
    "cv2.destroyAllWindows()"
   ]
  },
  {
   "cell_type": "code",
   "execution_count": 3,
   "id": "a2c0a831-e2a8-450a-978d-45f1a6c1dfff",
   "metadata": {},
   "outputs": [],
   "source": [
    "color_explore = np.zeros((150,150,3), np.uint8)  \n",
    "color_selected = np.zeros((150,150,3), np.uint8)\n"
   ]
  },
  {
   "cell_type": "code",
   "execution_count": 4,
   "id": "f3f15d6e-276e-467b-a14a-9345598211ed",
   "metadata": {},
   "outputs": [],
   "source": [
    "#Mouse Callback function\n",
    "def show_color(event,x,y,flags,param): \n",
    "\n",
    "    B=img[y,x][0]\n",
    "    G=img[y,x][1]\n",
    "    R=img[y,x][2]\n",
    "    color_explore [:] = (B,G,R)\n",
    "\n",
    "    if event == cv2.EVENT_LBUTTONDOWN:\n",
    "        color_selected [:] = (B,G,R)\n",
    "\n",
    "\n",
    "    if event == cv2.EVENT_RBUTTONDOWN:\n",
    "        B=color_selected[10,10][0]\n",
    "        G=color_selected[10,10][1]\n",
    "        R=color_selected[10,10][2]\n",
    "        print(R,G,B)\n",
    "        print(hex(R),hex(G),hex(B))"
   ]
  },
  {
   "cell_type": "code",
   "execution_count": 5,
   "id": "3fa4d4a8-4354-45a7-971d-ad42984a15d5",
   "metadata": {},
   "outputs": [],
   "source": [
    "#live update color with cursor\n",
    "cv2.namedWindow('color_explore')\n",
    "cv2.resizeWindow(\"color_explore\", 50,50);\n",
    "\n",
    "#Show selected color when left mouse button pressed\n",
    "cv2.namedWindow('color_selected')\n",
    "cv2.resizeWindow(\"color_selected\", 50,50);\n",
    "\n",
    "#image window for sample image\n",
    "cv2.namedWindow('image')\n",
    "\n",
    "#sample image path\n",
    "img_path=\"ecekagit.jpeg\"\n",
    "\n",
    "#read sample image\n",
    "img=cv2.imread(img_path)\n",
    "\n",
    "#mouse call back function declaration\n",
    "cv2.setMouseCallback('image',show_color)\n",
    "cv2.imshow(\"img\",img)"
   ]
  },
  {
   "cell_type": "code",
   "execution_count": 6,
   "id": "6f1b7be0-74ec-441d-9591-fea2a45b59fb",
   "metadata": {},
   "outputs": [
    {
     "ename": "KeyboardInterrupt",
     "evalue": "",
     "output_type": "error",
     "traceback": [
      "\u001b[1;31m---------------------------------------------------------------------------\u001b[0m",
      "\u001b[1;31mKeyboardInterrupt\u001b[0m                         Traceback (most recent call last)",
      "Input \u001b[1;32mIn [6]\u001b[0m, in \u001b[0;36m<cell line: 4>\u001b[1;34m()\u001b[0m\n\u001b[0;32m      5\u001b[0m cv2\u001b[38;5;241m.\u001b[39mimshow(\u001b[38;5;124m'\u001b[39m\u001b[38;5;124mcolor_explore\u001b[39m\u001b[38;5;124m'\u001b[39m,color_explore)\n\u001b[0;32m      6\u001b[0m cv2\u001b[38;5;241m.\u001b[39mimshow(\u001b[38;5;124m'\u001b[39m\u001b[38;5;124mcolor_selected\u001b[39m\u001b[38;5;124m'\u001b[39m,color_selected)\n\u001b[1;32m----> 7\u001b[0m k \u001b[38;5;241m=\u001b[39m \u001b[43mcv2\u001b[49m\u001b[38;5;241;43m.\u001b[39;49m\u001b[43mwaitKey\u001b[49m\u001b[43m(\u001b[49m\u001b[38;5;241;43m1\u001b[39;49m\u001b[43m)\u001b[49m \u001b[38;5;241m&\u001b[39m \u001b[38;5;241m0xFF\u001b[39m\n\u001b[0;32m      8\u001b[0m \u001b[38;5;28;01mif\u001b[39;00m k \u001b[38;5;241m==\u001b[39m \u001b[38;5;241m27\u001b[39m:\n\u001b[0;32m      9\u001b[0m     \u001b[38;5;28;01mbreak\u001b[39;00m\n",
      "\u001b[1;31mKeyboardInterrupt\u001b[0m: "
     ]
    }
   ],
   "source": [
    "\n",
    "#while loop to live update\n",
    "while (1):\n",
    "    \n",
    "    cv2.imshow('image',img)\n",
    "    cv2.imshow('color_explore',color_explore)\n",
    "    cv2.imshow('color_selected',color_selected)\n",
    "    k = cv2.waitKey(1) & 0xFF\n",
    "    if k == 27:\n",
    "        break\n",
    "\n",
    "cv2.destroyAllWindows()"
   ]
  },
  {
   "cell_type": "code",
   "execution_count": null,
   "id": "35c75b2d-e641-4917-9102-e5b7cce87ea3",
   "metadata": {},
   "outputs": [],
   "source": []
  }
 ],
 "metadata": {
  "kernelspec": {
   "display_name": "Python 3 (ipykernel)",
   "language": "python",
   "name": "python3"
  },
  "language_info": {
   "codemirror_mode": {
    "name": "ipython",
    "version": 3
   },
   "file_extension": ".py",
   "mimetype": "text/x-python",
   "name": "python",
   "nbconvert_exporter": "python",
   "pygments_lexer": "ipython3",
   "version": "3.9.12"
  }
 },
 "nbformat": 4,
 "nbformat_minor": 5
}
